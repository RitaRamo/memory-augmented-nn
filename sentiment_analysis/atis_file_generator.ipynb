{
 "cells": [
  {
   "cell_type": "code",
   "execution_count": 15,
   "outputs": [],
   "source": [
    "import csv\n",
    "import json\n",
    "import numpy as np"
   ],
   "metadata": {
    "collapsed": false,
    "pycharm": {
     "name": "#%%\n"
    }
   }
  },
  {
   "cell_type": "code",
   "execution_count": 16,
   "outputs": [],
   "source": [
    "all_train_labels=[]\n",
    "all_train_sents=[]\n",
    "with open('dataset_splits/atis_intents_train.csv') as csv_file:\n",
    "    csv_reader = csv.reader(csv_file, delimiter=',')\n",
    "\n",
    "    for row in csv_reader:\n",
    "        all_train_labels.append(row[0])\n",
    "        all_train_sents.append(row[1][1:])"
   ],
   "metadata": {
    "collapsed": false,
    "pycharm": {
     "name": "#%%\n"
    }
   }
  },
  {
   "cell_type": "code",
   "execution_count": 17,
   "outputs": [],
   "source": [
    "all_train_labels_no=[]\n",
    "\n",
    "for i in range(len(all_train_labels)):\n",
    "    if all_train_labels[i]=='atis_flight':\n",
    "        all_train_labels_no.append(0)\n",
    "    if all_train_labels[i]=='atis_airfare':\n",
    "        all_train_labels_no.append(1)\n",
    "    if all_train_labels[i]=='atis_airline':\n",
    "        all_train_labels_no.append(2)\n",
    "    if all_train_labels[i]=='atis_ground_service':\n",
    "        all_train_labels_no.append(3)\n",
    "    if all_train_labels[i]=='atis_abbreviation':\n",
    "        all_train_labels_no.append(4)\n",
    "    if all_train_labels[i]=='atis_aircraft':\n",
    "        all_train_labels_no.append(5)\n",
    "    if all_train_labels[i]=='atis_quantity':\n",
    "        all_train_labels_no.append(6)\n",
    "    if all_train_labels[i]=='atis_flight_time':\n",
    "        all_train_labels_no.append(7)"
   ],
   "metadata": {
    "collapsed": false,
    "pycharm": {
     "name": "#%%\n"
    }
   }
  },
  {
   "cell_type": "code",
   "execution_count": 18,
   "outputs": [],
   "source": [
    "with open('dataset_splits/atis_train_labels.json', 'w') as j:\n",
    "    json.dump(all_train_labels_no, j)"
   ],
   "metadata": {
    "collapsed": false,
    "pycharm": {
     "name": "#%%\n"
    }
   }
  },
  {
   "cell_type": "code",
   "execution_count": 19,
   "outputs": [],
   "source": [
    "with open('dataset_splits/atis_train_sents.json', 'w') as j:\n",
    "    json.dump(all_train_sents, j)"
   ],
   "metadata": {
    "collapsed": false,
    "pycharm": {
     "name": "#%%\n"
    }
   }
  },
  {
   "cell_type": "code",
   "execution_count": 20,
   "outputs": [],
   "source": [
    "all_test_labels=[]\n",
    "all_test_sents=[]\n",
    "with open('dataset_splits/atis_intents_test.csv') as csv_file:\n",
    "    csv_reader = csv.reader(csv_file, delimiter=',')\n",
    "\n",
    "    for row in csv_reader:\n",
    "        all_test_labels.append(row[0])\n",
    "        all_test_sents.append(row[1][1:])\n"
   ],
   "metadata": {
    "collapsed": false,
    "pycharm": {
     "name": "#%%\n"
    }
   }
  },
  {
   "cell_type": "code",
   "execution_count": 21,
   "outputs": [],
   "source": [
    "all_test_labels_no=[]\n",
    "\n",
    "for i in range(len(all_test_labels)):\n",
    "    if all_test_labels[i]=='atis_flight':\n",
    "        all_test_labels_no.append(0)\n",
    "    if all_test_labels[i]=='atis_airfare':\n",
    "        all_test_labels_no.append(1)\n",
    "    if all_test_labels[i]=='atis_airline':\n",
    "        all_test_labels_no.append(2)\n",
    "    if all_test_labels[i]=='atis_ground_service':\n",
    "        all_test_labels_no.append(3)\n",
    "    if all_test_labels[i]=='atis_abbreviation':\n",
    "        all_test_labels_no.append(4)\n",
    "    if all_test_labels[i]=='atis_aircraft':\n",
    "        all_test_labels_no.append(5)\n",
    "    if all_test_labels[i]=='atis_quantity':\n",
    "        all_test_labels_no.append(6)\n",
    "    if all_test_labels[i]=='atis_flight_time':\n",
    "        all_test_labels_no.append(7)"
   ],
   "metadata": {
    "collapsed": false,
    "pycharm": {
     "name": "#%%\n"
    }
   }
  },
  {
   "cell_type": "code",
   "execution_count": 22,
   "outputs": [],
   "source": [
    "with open('dataset_splits/atis_test_labels.json', 'w') as j:\n",
    "    json.dump(all_test_labels_no, j)"
   ],
   "metadata": {
    "collapsed": false,
    "pycharm": {
     "name": "#%%\n"
    }
   }
  },
  {
   "cell_type": "code",
   "execution_count": 23,
   "outputs": [],
   "source": [
    "with open('dataset_splits/atis_test_sents.json', 'w') as j:\n",
    "    json.dump(all_test_sents, j)\n"
   ],
   "metadata": {
    "collapsed": false,
    "pycharm": {
     "name": "#%%\n"
    }
   }
  }
 ],
 "metadata": {
  "kernelspec": {
   "display_name": "Python 3",
   "language": "python",
   "name": "python3"
  },
  "language_info": {
   "codemirror_mode": {
    "name": "ipython",
    "version": 3
   },
   "file_extension": ".py",
   "mimetype": "text/x-python",
   "name": "python",
   "nbconvert_exporter": "python",
   "pygments_lexer": "ipython3",
   "version": "3.6.9"
  }
 },
 "nbformat": 4,
 "nbformat_minor": 2
}